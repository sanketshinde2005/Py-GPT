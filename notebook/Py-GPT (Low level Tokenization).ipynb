{
  "nbformat": 4,
  "nbformat_minor": 0,
  "metadata": {
    "colab": {
      "provenance": []
    },
    "kernelspec": {
      "name": "python3",
      "display_name": "Python 3"
    },
    "language_info": {
      "name": "python"
    }
  },
  "cells": [
    {
      "cell_type": "code",
      "execution_count": 1,
      "metadata": {
        "id": "kxE4TOX9oDb0"
      },
      "outputs": [],
      "source": [
        "with open(\"ProblemSolutionPythonV3.csv\", \"r\", encoding=\"utf-8\") as f:\n",
        "    text = f.read()"
      ]
    },
    {
      "cell_type": "code",
      "source": [
        "print(\"Length of the dataset in characters: \",len(text))"
      ],
      "metadata": {
        "id": "wIjx98qapltM",
        "colab": {
          "base_uri": "https://localhost:8080/"
        },
        "outputId": "0f6ff1c5-f2a9-4943-c922-9ad064e54ea3"
      },
      "execution_count": 2,
      "outputs": [
        {
          "output_type": "stream",
          "name": "stdout",
          "text": [
            "Length of the dataset in characters:  1885296\n"
          ]
        }
      ]
    },
    {
      "cell_type": "code",
      "source": [
        "print(text[:1000])"
      ],
      "metadata": {
        "colab": {
          "base_uri": "https://localhost:8080/"
        },
        "id": "YRxoRtmhGaTq",
        "outputId": "b933bf5a-b01d-4239-de9c-9469e3756b12"
      },
      "execution_count": 3,
      "outputs": [
        {
          "output_type": "stream",
          "name": "stdout",
          "text": [
            ",Problem,Python Code\n",
            "0,Write a NumPy program to repeat elements of an array. ,\"import numpy as np\n",
            "x = np.repeat(3, 4)\n",
            "print(x)\n",
            "x = np.array([[1,2],[3,4]])\n",
            "print(np.repeat(x, 2))\n",
            "\"\n",
            "1,Write a Python function to create and print a list where the values are square of numbers between 1 and 30 (both included). ,\"def printValues():\n",
            "\tl = list()\n",
            "\tfor i in range(1,31):\n",
            "\t\tl.append(i**2)\n",
            "\tprint(l)\n",
            "\t\t\n",
            "printValues()\n",
            "\"\n",
            "2,Write a Python program to remove duplicates from a list of lists. ,\"import itertools\n",
            "num = [[10, 20], [40], [30, 56, 25], [10, 20], [33], [40]]\n",
            "print(\"\"Original List\"\", num)\n",
            "num.sort()\n",
            "new_num = list(num for num,_ in itertools.groupby(num))\n",
            "print(\"\"New List\"\", new_num)\n",
            "\"\n",
            "3,Write a NumPy program to compute the x and y coordinates for points on a sine curve and plot the points using matplotlib. ,\"import numpy as np\n",
            "import matplotlib.pyplot as plt\n",
            "# Compute the x and y coordinates for points on a sine curve\n",
            "x = np.arange(0, 3 * np.pi, 0.2)\n",
            "y = np.sin(x)\n",
            "print(\"\"Plot the points using mat\n"
          ]
        }
      ]
    },
    {
      "cell_type": "code",
      "source": [
        "chars = sorted(list(set(text)))\n",
        "vocab_size = len(chars)\n",
        "print(''.join(chars))\n",
        "print(vocab_size)"
      ],
      "metadata": {
        "colab": {
          "base_uri": "https://localhost:8080/"
        },
        "id": "E7OdBfenGdT9",
        "outputId": "d8ecb607-d5be-4e65-d687-fd763f25282a"
      },
      "execution_count": 4,
      "outputs": [
        {
          "output_type": "stream",
          "name": "stdout",
          "text": [
            "\t\n",
            " !\"#$%&'()*+,-./0123456789:;<=>?@ABCDEFGHIJKLMNOPQRSTUVWXYZ[\\]^_`abcdefghijklmnopqrstuvwxyz{|}~ ¡«­°³»Âï–‘’“”…⊗╳꞉\n",
            "115\n"
          ]
        }
      ]
    },
    {
      "cell_type": "code",
      "source": [
        "with open(\"vocab.txt\", \"w\", encoding=\"utf-8\") as f:\n",
        "    f.write(\"\".join(chars))"
      ],
      "metadata": {
        "id": "jvZcQXWHkv6C"
      },
      "execution_count": 5,
      "outputs": []
    },
    {
      "cell_type": "code",
      "source": [
        "# Define character mappings\n",
        "stoi = { ch:i for i,ch in enumerate(chars) }\n",
        "itos = { i:ch for i,ch in enumerate(chars) }\n",
        "\n",
        "# Encoding and decoding functions\n",
        "encode = lambda s: [stoi[c] for c in s]  # str -> list of ints\n",
        "decode = lambda l: ''.join([itos[i] for i in l])  # list of ints -> str\n",
        "\n",
        "# Use a string that matches your dataset characters\n",
        "test_str = \"def function_0():\\n    return 42\"\n",
        "\n",
        "# Safe test\n",
        "print(encode(test_str))\n",
        "print(decode(encode(test_str)))\n"
      ],
      "metadata": {
        "colab": {
          "base_uri": "https://localhost:8080/"
        },
        "id": "sndSgQGEGfmK",
        "outputId": "a57fa404-f7a9-4fbf-af74-399af1e2fc60"
      },
      "execution_count": 6,
      "outputs": [
        {
          "output_type": "stream",
          "name": "stdout",
          "text": [
            "[70, 71, 72, 2, 72, 87, 80, 69, 86, 75, 81, 80, 65, 18, 10, 11, 28, 1, 2, 2, 2, 2, 84, 71, 86, 87, 84, 80, 2, 22, 20]\n",
            "def function_0():\n",
            "    return 42\n"
          ]
        }
      ]
    },
    {
      "cell_type": "code",
      "source": [
        "import torch\n",
        "data = torch.tensor(encode(text), dtype=torch.long)\n",
        "print(data.shape, data.dtype)\n",
        "print(data[:1000])"
      ],
      "metadata": {
        "id": "zQ7gPgMwGhsg",
        "colab": {
          "base_uri": "https://localhost:8080/"
        },
        "outputId": "65c4a848-f1eb-4d7f-e375-bbc1f51f3636"
      },
      "execution_count": 7,
      "outputs": [
        {
          "output_type": "stream",
          "name": "stdout",
          "text": [
            "torch.Size([1885296]) torch.int64\n",
            "tensor([14, 50, 84, 81, 68, 78, 71, 79, 14, 50, 91, 86, 74, 81, 80,  2, 37, 81,\n",
            "        70, 71,  1, 18, 14, 57, 84, 75, 86, 71,  2, 67,  2, 48, 87, 79, 50, 91,\n",
            "         2, 82, 84, 81, 73, 84, 67, 79,  2, 86, 81,  2, 84, 71, 82, 71, 67, 86,\n",
            "         2, 71, 78, 71, 79, 71, 80, 86, 85,  2, 81, 72,  2, 67, 80,  2, 67, 84,\n",
            "        84, 67, 91, 16,  2, 14,  4, 75, 79, 82, 81, 84, 86,  2, 80, 87, 79, 82,\n",
            "        91,  2, 67, 85,  2, 80, 82,  1, 90,  2, 31,  2, 80, 82, 16, 84, 71, 82,\n",
            "        71, 67, 86, 10, 21, 14,  2, 22, 11,  1, 82, 84, 75, 80, 86, 10, 90, 11,\n",
            "         1, 90,  2, 31,  2, 80, 82, 16, 67, 84, 84, 67, 91, 10, 61, 61, 19, 14,\n",
            "        20, 63, 14, 61, 21, 14, 22, 63, 63, 11,  1, 82, 84, 75, 80, 86, 10, 80,\n",
            "        82, 16, 84, 71, 82, 71, 67, 86, 10, 90, 14,  2, 20, 11, 11,  1,  4,  1,\n",
            "        19, 14, 57, 84, 75, 86, 71,  2, 67,  2, 50, 91, 86, 74, 81, 80,  2, 72,\n",
            "        87, 80, 69, 86, 75, 81, 80,  2, 86, 81,  2, 69, 84, 71, 67, 86, 71,  2,\n",
            "        67, 80, 70,  2, 82, 84, 75, 80, 86,  2, 67,  2, 78, 75, 85, 86,  2, 89,\n",
            "        74, 71, 84, 71,  2, 86, 74, 71,  2, 88, 67, 78, 87, 71, 85,  2, 67, 84,\n",
            "        71,  2, 85, 83, 87, 67, 84, 71,  2, 81, 72,  2, 80, 87, 79, 68, 71, 84,\n",
            "        85,  2, 68, 71, 86, 89, 71, 71, 80,  2, 19,  2, 67, 80, 70,  2, 21, 18,\n",
            "         2, 10, 68, 81, 86, 74,  2, 75, 80, 69, 78, 87, 70, 71, 70, 11, 16,  2,\n",
            "        14,  4, 70, 71, 72,  2, 82, 84, 75, 80, 86, 56, 67, 78, 87, 71, 85, 10,\n",
            "        11, 28,  1,  0, 78,  2, 31,  2, 78, 75, 85, 86, 10, 11,  1,  0, 72, 81,\n",
            "        84,  2, 75,  2, 75, 80,  2, 84, 67, 80, 73, 71, 10, 19, 14, 21, 19, 11,\n",
            "        28,  1,  0,  0, 78, 16, 67, 82, 82, 71, 80, 70, 10, 75, 12, 12, 20, 11,\n",
            "         1,  0, 82, 84, 75, 80, 86, 10, 78, 11,  1,  0,  0,  1, 82, 84, 75, 80,\n",
            "        86, 56, 67, 78, 87, 71, 85, 10, 11,  1,  4,  1, 20, 14, 57, 84, 75, 86,\n",
            "        71,  2, 67,  2, 50, 91, 86, 74, 81, 80,  2, 82, 84, 81, 73, 84, 67, 79,\n",
            "         2, 86, 81,  2, 84, 71, 79, 81, 88, 71,  2, 70, 87, 82, 78, 75, 69, 67,\n",
            "        86, 71, 85,  2, 72, 84, 81, 79,  2, 67,  2, 78, 75, 85, 86,  2, 81, 72,\n",
            "         2, 78, 75, 85, 86, 85, 16,  2, 14,  4, 75, 79, 82, 81, 84, 86,  2, 75,\n",
            "        86, 71, 84, 86, 81, 81, 78, 85,  1, 80, 87, 79,  2, 31,  2, 61, 61, 19,\n",
            "        18, 14,  2, 20, 18, 63, 14,  2, 61, 22, 18, 63, 14,  2, 61, 21, 18, 14,\n",
            "         2, 23, 24, 14,  2, 20, 23, 63, 14,  2, 61, 19, 18, 14,  2, 20, 18, 63,\n",
            "        14,  2, 61, 21, 21, 63, 14,  2, 61, 22, 18, 63, 63,  1, 82, 84, 75, 80,\n",
            "        86, 10,  4,  4, 49, 84, 75, 73, 75, 80, 67, 78,  2, 46, 75, 85, 86,  4,\n",
            "         4, 14,  2, 80, 87, 79, 11,  1, 80, 87, 79, 16, 85, 81, 84, 86, 10, 11,\n",
            "         1, 80, 71, 89, 65, 80, 87, 79,  2, 31,  2, 78, 75, 85, 86, 10, 80, 87,\n",
            "        79,  2, 72, 81, 84,  2, 80, 87, 79, 14, 65,  2, 75, 80,  2, 75, 86, 71,\n",
            "        84, 86, 81, 81, 78, 85, 16, 73, 84, 81, 87, 82, 68, 91, 10, 80, 87, 79,\n",
            "        11, 11,  1, 82, 84, 75, 80, 86, 10,  4,  4, 48, 71, 89,  2, 46, 75, 85,\n",
            "        86,  4,  4, 14,  2, 80, 71, 89, 65, 80, 87, 79, 11,  1,  4,  1, 21, 14,\n",
            "        57, 84, 75, 86, 71,  2, 67,  2, 48, 87, 79, 50, 91,  2, 82, 84, 81, 73,\n",
            "        84, 67, 79,  2, 86, 81,  2, 69, 81, 79, 82, 87, 86, 71,  2, 86, 74, 71,\n",
            "         2, 90,  2, 67, 80, 70,  2, 91,  2, 69, 81, 81, 84, 70, 75, 80, 67, 86,\n",
            "        71, 85,  2, 72, 81, 84,  2, 82, 81, 75, 80, 86, 85,  2, 81, 80,  2, 67,\n",
            "         2, 85, 75, 80, 71,  2, 69, 87, 84, 88, 71,  2, 67, 80, 70,  2, 82, 78,\n",
            "        81, 86,  2, 86, 74, 71,  2, 82, 81, 75, 80, 86, 85,  2, 87, 85, 75, 80,\n",
            "        73,  2, 79, 67, 86, 82, 78, 81, 86, 78, 75, 68, 16,  2, 14,  4, 75, 79,\n",
            "        82, 81, 84, 86,  2, 80, 87, 79, 82, 91,  2, 67, 85,  2, 80, 82,  1, 75,\n",
            "        79, 82, 81, 84, 86,  2, 79, 67, 86, 82, 78, 81, 86, 78, 75, 68, 16, 82,\n",
            "        91, 82, 78, 81, 86,  2, 67, 85,  2, 82, 78, 86,  1,  5,  2, 37, 81, 79,\n",
            "        82, 87, 86, 71,  2, 86, 74, 71,  2, 90,  2, 67, 80, 70,  2, 91,  2, 69,\n",
            "        81, 81, 84, 70, 75, 80, 67, 86, 71, 85,  2, 72, 81, 84,  2, 82, 81, 75,\n",
            "        80, 86, 85,  2, 81, 80,  2, 67,  2, 85, 75, 80, 71,  2, 69, 87, 84, 88,\n",
            "        71,  1, 90,  2, 31,  2, 80, 82, 16, 67, 84, 67, 80, 73, 71, 10, 18, 14,\n",
            "         2, 21,  2, 12,  2, 80, 82, 16, 82, 75, 14,  2, 18, 16, 20, 11,  1, 91,\n",
            "         2, 31,  2, 80, 82, 16, 85, 75, 80, 10, 90, 11,  1, 82, 84, 75, 80, 86,\n",
            "        10,  4,  4, 50, 78, 81, 86,  2, 86, 74, 71,  2, 82, 81, 75, 80, 86, 85,\n",
            "         2, 87, 85, 75, 80, 73,  2, 79, 67, 86])\n"
          ]
        }
      ]
    },
    {
      "cell_type": "code",
      "source": [
        "n = int(0.9*len(data))\n",
        "train_data = data[:n]\n",
        "val_data = data[n:]"
      ],
      "metadata": {
        "id": "qWLCRJ2kH8_S"
      },
      "execution_count": 8,
      "outputs": []
    },
    {
      "cell_type": "code",
      "source": [
        "block_size = 16\n",
        "train_data[:block_size+1]"
      ],
      "metadata": {
        "colab": {
          "base_uri": "https://localhost:8080/"
        },
        "id": "kg_DofsdIC13",
        "outputId": "3e7078ed-aef5-463d-9b42-c9e626435a8d"
      },
      "execution_count": 9,
      "outputs": [
        {
          "output_type": "execute_result",
          "data": {
            "text/plain": [
              "tensor([14, 50, 84, 81, 68, 78, 71, 79, 14, 50, 91, 86, 74, 81, 80,  2, 37])"
            ]
          },
          "metadata": {},
          "execution_count": 9
        }
      ]
    },
    {
      "cell_type": "code",
      "source": [
        "x = train_data[:block_size]\n",
        "y = train_data[1:block_size+1]\n",
        "for t in range(block_size):\n",
        "  context = x[:t+1]\n",
        "  target =y[t]\n",
        "  print(f\"when input is {context} the target: {target}\")"
      ],
      "metadata": {
        "colab": {
          "base_uri": "https://localhost:8080/"
        },
        "id": "io6vSarhIG2S",
        "outputId": "228f9c1d-1a2b-4a30-b981-20739b507be0"
      },
      "execution_count": 10,
      "outputs": [
        {
          "output_type": "stream",
          "name": "stdout",
          "text": [
            "when input is tensor([14]) the target: 50\n",
            "when input is tensor([14, 50]) the target: 84\n",
            "when input is tensor([14, 50, 84]) the target: 81\n",
            "when input is tensor([14, 50, 84, 81]) the target: 68\n",
            "when input is tensor([14, 50, 84, 81, 68]) the target: 78\n",
            "when input is tensor([14, 50, 84, 81, 68, 78]) the target: 71\n",
            "when input is tensor([14, 50, 84, 81, 68, 78, 71]) the target: 79\n",
            "when input is tensor([14, 50, 84, 81, 68, 78, 71, 79]) the target: 14\n",
            "when input is tensor([14, 50, 84, 81, 68, 78, 71, 79, 14]) the target: 50\n",
            "when input is tensor([14, 50, 84, 81, 68, 78, 71, 79, 14, 50]) the target: 91\n",
            "when input is tensor([14, 50, 84, 81, 68, 78, 71, 79, 14, 50, 91]) the target: 86\n",
            "when input is tensor([14, 50, 84, 81, 68, 78, 71, 79, 14, 50, 91, 86]) the target: 74\n",
            "when input is tensor([14, 50, 84, 81, 68, 78, 71, 79, 14, 50, 91, 86, 74]) the target: 81\n",
            "when input is tensor([14, 50, 84, 81, 68, 78, 71, 79, 14, 50, 91, 86, 74, 81]) the target: 80\n",
            "when input is tensor([14, 50, 84, 81, 68, 78, 71, 79, 14, 50, 91, 86, 74, 81, 80]) the target: 2\n",
            "when input is tensor([14, 50, 84, 81, 68, 78, 71, 79, 14, 50, 91, 86, 74, 81, 80,  2]) the target: 37\n"
          ]
        }
      ]
    },
    {
      "cell_type": "code",
      "source": [
        "torch.manual_seed(1337)\n",
        "batch_size = 8\n",
        "block_size = 16\n",
        "\n",
        "def get_batch(split):\n",
        "    data = train_data if split == 'train' else val_data\n",
        "    ix = torch.randint(len(data) - block_size, (batch_size,))\n",
        "    x = torch.stack([data[i:i+block_size] for i in ix])\n",
        "    y = torch.stack([data[i+1:i+block_size+1] for i in ix])\n",
        "    return x, y\n",
        "\n",
        "xb, yb = get_batch('train')\n",
        "print('inputs:')\n",
        "print(xb.shape)\n",
        "print(xb)\n",
        "print('targets:')\n",
        "print(yb.shape)\n",
        "print(yb)\n",
        "\n",
        "print('----')\n",
        "\n",
        "for b in range(batch_size):\n",
        "    for t in range(block_size):\n",
        "        context = xb[b, :t+1]\n",
        "        target = yb[b,t]\n",
        "        print(f\"when input is {context.tolist()} the target: {target}\")"
      ],
      "metadata": {
        "colab": {
          "base_uri": "https://localhost:8080/"
        },
        "id": "9Er-_yFtIIuS",
        "outputId": "0bd11814-a90b-4abe-81d1-35342f7ca3e6"
      },
      "execution_count": 11,
      "outputs": [
        {
          "output_type": "stream",
          "name": "stdout",
          "text": [
            "inputs:\n",
            "torch.Size([8, 16])\n",
            "tensor([[ 4, 11,  1, 67,  2, 31,  2, 67, 84, 84, 81, 89, 16, 87, 86, 69],\n",
            "        [67, 80, 73, 71, 80, 87, 79, 68, 71, 84, 28,  1, 97,  2, 97,  2],\n",
            "        [75, 79, 67, 73, 71, 85, 11, 95,  4,  4, 11,  1, 97, 97,  1,  5],\n",
            "        [82, 78, 75, 86,  2, 67,  2, 70, 67, 86, 67, 85, 71, 86,  2, 86],\n",
            "        [82, 16, 81, 80, 71, 85, 10, 10, 19, 14, 20, 11, 14,  2, 70, 86],\n",
            "        [74,  4,  4, 14,  1, 97, 97, 97,  4,  4, 53, 71, 69, 81, 80, 70],\n",
            "        [75, 85, 86,  2, 75, 85,  2, 28,  2,  4,  4,  2, 13,  2, 85, 86],\n",
            "        [73, 31, 85, 86, 84, 75, 80, 73, 16, 84, 71, 82, 78, 67, 69, 71]])\n",
            "targets:\n",
            "torch.Size([8, 16])\n",
            "tensor([[11,  1, 67,  2, 31,  2, 67, 84, 84, 81, 89, 16, 87, 86, 69, 80],\n",
            "        [80, 73, 71, 80, 87, 79, 68, 71, 84, 28,  1, 97,  2, 97,  2, 72],\n",
            "        [79, 67, 73, 71, 85, 11, 95,  4,  4, 11,  1, 97, 97,  1,  5,  2],\n",
            "        [78, 75, 86,  2, 67,  2, 70, 67, 86, 67, 85, 71, 86,  2, 86, 81],\n",
            "        [16, 81, 80, 71, 85, 10, 10, 19, 14, 20, 11, 14,  2, 70, 86, 91],\n",
            "        [ 4,  4, 14,  1, 97, 97, 97,  4,  4, 53, 71, 69, 81, 80, 70, 65],\n",
            "        [85, 86,  2, 75, 85,  2, 28,  2,  4,  4,  2, 13,  2, 85, 86, 84],\n",
            "        [31, 85, 86, 84, 75, 80, 73, 16, 84, 71, 82, 78, 67, 69, 71, 10]])\n",
            "----\n",
            "when input is [4] the target: 11\n",
            "when input is [4, 11] the target: 1\n",
            "when input is [4, 11, 1] the target: 67\n",
            "when input is [4, 11, 1, 67] the target: 2\n",
            "when input is [4, 11, 1, 67, 2] the target: 31\n",
            "when input is [4, 11, 1, 67, 2, 31] the target: 2\n",
            "when input is [4, 11, 1, 67, 2, 31, 2] the target: 67\n",
            "when input is [4, 11, 1, 67, 2, 31, 2, 67] the target: 84\n",
            "when input is [4, 11, 1, 67, 2, 31, 2, 67, 84] the target: 84\n",
            "when input is [4, 11, 1, 67, 2, 31, 2, 67, 84, 84] the target: 81\n",
            "when input is [4, 11, 1, 67, 2, 31, 2, 67, 84, 84, 81] the target: 89\n",
            "when input is [4, 11, 1, 67, 2, 31, 2, 67, 84, 84, 81, 89] the target: 16\n",
            "when input is [4, 11, 1, 67, 2, 31, 2, 67, 84, 84, 81, 89, 16] the target: 87\n",
            "when input is [4, 11, 1, 67, 2, 31, 2, 67, 84, 84, 81, 89, 16, 87] the target: 86\n",
            "when input is [4, 11, 1, 67, 2, 31, 2, 67, 84, 84, 81, 89, 16, 87, 86] the target: 69\n",
            "when input is [4, 11, 1, 67, 2, 31, 2, 67, 84, 84, 81, 89, 16, 87, 86, 69] the target: 80\n",
            "when input is [67] the target: 80\n",
            "when input is [67, 80] the target: 73\n",
            "when input is [67, 80, 73] the target: 71\n",
            "when input is [67, 80, 73, 71] the target: 80\n",
            "when input is [67, 80, 73, 71, 80] the target: 87\n",
            "when input is [67, 80, 73, 71, 80, 87] the target: 79\n",
            "when input is [67, 80, 73, 71, 80, 87, 79] the target: 68\n",
            "when input is [67, 80, 73, 71, 80, 87, 79, 68] the target: 71\n",
            "when input is [67, 80, 73, 71, 80, 87, 79, 68, 71] the target: 84\n",
            "when input is [67, 80, 73, 71, 80, 87, 79, 68, 71, 84] the target: 28\n",
            "when input is [67, 80, 73, 71, 80, 87, 79, 68, 71, 84, 28] the target: 1\n",
            "when input is [67, 80, 73, 71, 80, 87, 79, 68, 71, 84, 28, 1] the target: 97\n",
            "when input is [67, 80, 73, 71, 80, 87, 79, 68, 71, 84, 28, 1, 97] the target: 2\n",
            "when input is [67, 80, 73, 71, 80, 87, 79, 68, 71, 84, 28, 1, 97, 2] the target: 97\n",
            "when input is [67, 80, 73, 71, 80, 87, 79, 68, 71, 84, 28, 1, 97, 2, 97] the target: 2\n",
            "when input is [67, 80, 73, 71, 80, 87, 79, 68, 71, 84, 28, 1, 97, 2, 97, 2] the target: 72\n",
            "when input is [75] the target: 79\n",
            "when input is [75, 79] the target: 67\n",
            "when input is [75, 79, 67] the target: 73\n",
            "when input is [75, 79, 67, 73] the target: 71\n",
            "when input is [75, 79, 67, 73, 71] the target: 85\n",
            "when input is [75, 79, 67, 73, 71, 85] the target: 11\n",
            "when input is [75, 79, 67, 73, 71, 85, 11] the target: 95\n",
            "when input is [75, 79, 67, 73, 71, 85, 11, 95] the target: 4\n",
            "when input is [75, 79, 67, 73, 71, 85, 11, 95, 4] the target: 4\n",
            "when input is [75, 79, 67, 73, 71, 85, 11, 95, 4, 4] the target: 11\n",
            "when input is [75, 79, 67, 73, 71, 85, 11, 95, 4, 4, 11] the target: 1\n",
            "when input is [75, 79, 67, 73, 71, 85, 11, 95, 4, 4, 11, 1] the target: 97\n",
            "when input is [75, 79, 67, 73, 71, 85, 11, 95, 4, 4, 11, 1, 97] the target: 97\n",
            "when input is [75, 79, 67, 73, 71, 85, 11, 95, 4, 4, 11, 1, 97, 97] the target: 1\n",
            "when input is [75, 79, 67, 73, 71, 85, 11, 95, 4, 4, 11, 1, 97, 97, 1] the target: 5\n",
            "when input is [75, 79, 67, 73, 71, 85, 11, 95, 4, 4, 11, 1, 97, 97, 1, 5] the target: 2\n",
            "when input is [82] the target: 78\n",
            "when input is [82, 78] the target: 75\n",
            "when input is [82, 78, 75] the target: 86\n",
            "when input is [82, 78, 75, 86] the target: 2\n",
            "when input is [82, 78, 75, 86, 2] the target: 67\n",
            "when input is [82, 78, 75, 86, 2, 67] the target: 2\n",
            "when input is [82, 78, 75, 86, 2, 67, 2] the target: 70\n",
            "when input is [82, 78, 75, 86, 2, 67, 2, 70] the target: 67\n",
            "when input is [82, 78, 75, 86, 2, 67, 2, 70, 67] the target: 86\n",
            "when input is [82, 78, 75, 86, 2, 67, 2, 70, 67, 86] the target: 67\n",
            "when input is [82, 78, 75, 86, 2, 67, 2, 70, 67, 86, 67] the target: 85\n",
            "when input is [82, 78, 75, 86, 2, 67, 2, 70, 67, 86, 67, 85] the target: 71\n",
            "when input is [82, 78, 75, 86, 2, 67, 2, 70, 67, 86, 67, 85, 71] the target: 86\n",
            "when input is [82, 78, 75, 86, 2, 67, 2, 70, 67, 86, 67, 85, 71, 86] the target: 2\n",
            "when input is [82, 78, 75, 86, 2, 67, 2, 70, 67, 86, 67, 85, 71, 86, 2] the target: 86\n",
            "when input is [82, 78, 75, 86, 2, 67, 2, 70, 67, 86, 67, 85, 71, 86, 2, 86] the target: 81\n",
            "when input is [82] the target: 16\n",
            "when input is [82, 16] the target: 81\n",
            "when input is [82, 16, 81] the target: 80\n",
            "when input is [82, 16, 81, 80] the target: 71\n",
            "when input is [82, 16, 81, 80, 71] the target: 85\n",
            "when input is [82, 16, 81, 80, 71, 85] the target: 10\n",
            "when input is [82, 16, 81, 80, 71, 85, 10] the target: 10\n",
            "when input is [82, 16, 81, 80, 71, 85, 10, 10] the target: 19\n",
            "when input is [82, 16, 81, 80, 71, 85, 10, 10, 19] the target: 14\n",
            "when input is [82, 16, 81, 80, 71, 85, 10, 10, 19, 14] the target: 20\n",
            "when input is [82, 16, 81, 80, 71, 85, 10, 10, 19, 14, 20] the target: 11\n",
            "when input is [82, 16, 81, 80, 71, 85, 10, 10, 19, 14, 20, 11] the target: 14\n",
            "when input is [82, 16, 81, 80, 71, 85, 10, 10, 19, 14, 20, 11, 14] the target: 2\n",
            "when input is [82, 16, 81, 80, 71, 85, 10, 10, 19, 14, 20, 11, 14, 2] the target: 70\n",
            "when input is [82, 16, 81, 80, 71, 85, 10, 10, 19, 14, 20, 11, 14, 2, 70] the target: 86\n",
            "when input is [82, 16, 81, 80, 71, 85, 10, 10, 19, 14, 20, 11, 14, 2, 70, 86] the target: 91\n",
            "when input is [74] the target: 4\n",
            "when input is [74, 4] the target: 4\n",
            "when input is [74, 4, 4] the target: 14\n",
            "when input is [74, 4, 4, 14] the target: 1\n",
            "when input is [74, 4, 4, 14, 1] the target: 97\n",
            "when input is [74, 4, 4, 14, 1, 97] the target: 97\n",
            "when input is [74, 4, 4, 14, 1, 97, 97] the target: 97\n",
            "when input is [74, 4, 4, 14, 1, 97, 97, 97] the target: 4\n",
            "when input is [74, 4, 4, 14, 1, 97, 97, 97, 4] the target: 4\n",
            "when input is [74, 4, 4, 14, 1, 97, 97, 97, 4, 4] the target: 53\n",
            "when input is [74, 4, 4, 14, 1, 97, 97, 97, 4, 4, 53] the target: 71\n",
            "when input is [74, 4, 4, 14, 1, 97, 97, 97, 4, 4, 53, 71] the target: 69\n",
            "when input is [74, 4, 4, 14, 1, 97, 97, 97, 4, 4, 53, 71, 69] the target: 81\n",
            "when input is [74, 4, 4, 14, 1, 97, 97, 97, 4, 4, 53, 71, 69, 81] the target: 80\n",
            "when input is [74, 4, 4, 14, 1, 97, 97, 97, 4, 4, 53, 71, 69, 81, 80] the target: 70\n",
            "when input is [74, 4, 4, 14, 1, 97, 97, 97, 4, 4, 53, 71, 69, 81, 80, 70] the target: 65\n",
            "when input is [75] the target: 85\n",
            "when input is [75, 85] the target: 86\n",
            "when input is [75, 85, 86] the target: 2\n",
            "when input is [75, 85, 86, 2] the target: 75\n",
            "when input is [75, 85, 86, 2, 75] the target: 85\n",
            "when input is [75, 85, 86, 2, 75, 85] the target: 2\n",
            "when input is [75, 85, 86, 2, 75, 85, 2] the target: 28\n",
            "when input is [75, 85, 86, 2, 75, 85, 2, 28] the target: 2\n",
            "when input is [75, 85, 86, 2, 75, 85, 2, 28, 2] the target: 4\n",
            "when input is [75, 85, 86, 2, 75, 85, 2, 28, 2, 4] the target: 4\n",
            "when input is [75, 85, 86, 2, 75, 85, 2, 28, 2, 4, 4] the target: 2\n",
            "when input is [75, 85, 86, 2, 75, 85, 2, 28, 2, 4, 4, 2] the target: 13\n",
            "when input is [75, 85, 86, 2, 75, 85, 2, 28, 2, 4, 4, 2, 13] the target: 2\n",
            "when input is [75, 85, 86, 2, 75, 85, 2, 28, 2, 4, 4, 2, 13, 2] the target: 85\n",
            "when input is [75, 85, 86, 2, 75, 85, 2, 28, 2, 4, 4, 2, 13, 2, 85] the target: 86\n",
            "when input is [75, 85, 86, 2, 75, 85, 2, 28, 2, 4, 4, 2, 13, 2, 85, 86] the target: 84\n",
            "when input is [73] the target: 31\n",
            "when input is [73, 31] the target: 85\n",
            "when input is [73, 31, 85] the target: 86\n",
            "when input is [73, 31, 85, 86] the target: 84\n",
            "when input is [73, 31, 85, 86, 84] the target: 75\n",
            "when input is [73, 31, 85, 86, 84, 75] the target: 80\n",
            "when input is [73, 31, 85, 86, 84, 75, 80] the target: 73\n",
            "when input is [73, 31, 85, 86, 84, 75, 80, 73] the target: 16\n",
            "when input is [73, 31, 85, 86, 84, 75, 80, 73, 16] the target: 84\n",
            "when input is [73, 31, 85, 86, 84, 75, 80, 73, 16, 84] the target: 71\n",
            "when input is [73, 31, 85, 86, 84, 75, 80, 73, 16, 84, 71] the target: 82\n",
            "when input is [73, 31, 85, 86, 84, 75, 80, 73, 16, 84, 71, 82] the target: 78\n",
            "when input is [73, 31, 85, 86, 84, 75, 80, 73, 16, 84, 71, 82, 78] the target: 67\n",
            "when input is [73, 31, 85, 86, 84, 75, 80, 73, 16, 84, 71, 82, 78, 67] the target: 69\n",
            "when input is [73, 31, 85, 86, 84, 75, 80, 73, 16, 84, 71, 82, 78, 67, 69] the target: 71\n",
            "when input is [73, 31, 85, 86, 84, 75, 80, 73, 16, 84, 71, 82, 78, 67, 69, 71] the target: 10\n"
          ]
        }
      ]
    },
    {
      "cell_type": "code",
      "source": [
        "print(xb)"
      ],
      "metadata": {
        "colab": {
          "base_uri": "https://localhost:8080/"
        },
        "id": "cWWz2zr9Jkqs",
        "outputId": "2275d7ac-123f-4618-9c68-c1f2b3c6db6d"
      },
      "execution_count": 12,
      "outputs": [
        {
          "output_type": "stream",
          "name": "stdout",
          "text": [
            "tensor([[ 4, 11,  1, 67,  2, 31,  2, 67, 84, 84, 81, 89, 16, 87, 86, 69],\n",
            "        [67, 80, 73, 71, 80, 87, 79, 68, 71, 84, 28,  1, 97,  2, 97,  2],\n",
            "        [75, 79, 67, 73, 71, 85, 11, 95,  4,  4, 11,  1, 97, 97,  1,  5],\n",
            "        [82, 78, 75, 86,  2, 67,  2, 70, 67, 86, 67, 85, 71, 86,  2, 86],\n",
            "        [82, 16, 81, 80, 71, 85, 10, 10, 19, 14, 20, 11, 14,  2, 70, 86],\n",
            "        [74,  4,  4, 14,  1, 97, 97, 97,  4,  4, 53, 71, 69, 81, 80, 70],\n",
            "        [75, 85, 86,  2, 75, 85,  2, 28,  2,  4,  4,  2, 13,  2, 85, 86],\n",
            "        [73, 31, 85, 86, 84, 75, 80, 73, 16, 84, 71, 82, 78, 67, 69, 71]])\n"
          ]
        }
      ]
    },
    {
      "cell_type": "code",
      "source": [
        "import torch\n",
        "import torch.nn as nn\n",
        "from torch.nn import functional as F\n",
        "torch.manual_seed(1337)\n",
        "\n",
        "class BigramLanguageModel(nn.Module):\n",
        "\n",
        "    def __init__(self, vocab_size):\n",
        "        super().__init__()\n",
        "        # each token directly reads off the logits for the next token from a lookup table\n",
        "        self.token_embedding_table = nn.Embedding(vocab_size, vocab_size)\n",
        "\n",
        "    def forward(self, idx, targets=None):\n",
        "\n",
        "        # idx and targets are both (B,T) tensor of integers\n",
        "        logits = self.token_embedding_table(idx) # (B,T,C)\n",
        "\n",
        "        if targets is None:\n",
        "            loss = None\n",
        "        else:\n",
        "            B, T, C = logits.shape\n",
        "            logits = logits.view(B*T, C)\n",
        "            targets = targets.view(B*T)\n",
        "            loss = F.cross_entropy(logits, targets)\n",
        "\n",
        "        return logits, loss\n",
        "\n",
        "    def generate(self, idx, max_new_tokens):\n",
        "        # idx is (B, T) array of indices in the current context\n",
        "        for _ in range(max_new_tokens):\n",
        "            # get the predictions\n",
        "            logits, loss = self(idx)\n",
        "            # focus only on the last time step\n",
        "            logits = logits[:, -1, :] # becomes (B, C)\n",
        "            # apply softmax to get probabilities\n",
        "            probs = F.softmax(logits, dim=-1) # (B, C)\n",
        "            # sample from the distribution\n",
        "            idx_next = torch.multinomial(probs, num_samples=1) # (B, 1)\n",
        "            # append sampled index to the running sequence\n",
        "            idx = torch.cat((idx, idx_next), dim=1) # (B, T+1)\n",
        "        return idx\n",
        "\n",
        "m = BigramLanguageModel(vocab_size)\n",
        "logits, loss = m(xb, yb)\n",
        "print(logits.shape)\n",
        "print(loss)\n",
        "\n",
        "print(decode(m.generate(idx = torch.zeros((1, 1), dtype=torch.long), max_new_tokens=100)[0].tolist()))\n"
      ],
      "metadata": {
        "colab": {
          "base_uri": "https://localhost:8080/"
        },
        "id": "3361cdVbJnfP",
        "outputId": "9c5f7078-d454-4f18-b4ed-b21b426064e8"
      },
      "execution_count": 13,
      "outputs": [
        {
          "output_type": "stream",
          "name": "stdout",
          "text": [
            "torch.Size([128, 115])\n",
            "tensor(5.2057, grad_fn=<NllLossBackward0>)\n",
            "\tE[B°oZ'­Â³u6(ZOHK8Wb«b{fWRz$TaXJ6fF$\n",
            "6gy»”­_ mCDK0aP)P\"0P[–hc9Z.$‘AJ0ZZ?eac°P#vcxZp¡’!V)ïQ;q0nWz+OWO\n"
          ]
        }
      ]
    },
    {
      "cell_type": "code",
      "source": [
        "# create a PyTorch optimizer\n",
        "optimizer = torch.optim.AdamW(m.parameters(), lr=1e-3)"
      ],
      "metadata": {
        "id": "qb0ox4FUJ__X"
      },
      "execution_count": 14,
      "outputs": []
    },
    {
      "cell_type": "code",
      "source": [
        "batch_size = 32\n",
        "for steps in range(100): # increase number of steps for good results...\n",
        "\n",
        "    # sample a batch of data\n",
        "    xb, yb = get_batch('train')\n",
        "\n",
        "    # evaluate the loss\n",
        "    logits, loss = m(xb, yb)\n",
        "    optimizer.zero_grad(set_to_none=True)\n",
        "    loss.backward()\n",
        "    optimizer.step()\n",
        "\n",
        "print(loss.item())\n"
      ],
      "metadata": {
        "colab": {
          "base_uri": "https://localhost:8080/"
        },
        "id": "L_bKD3exKgix",
        "outputId": "832c29ad-f386-467c-c270-661829445e2d"
      },
      "execution_count": 15,
      "outputs": [
        {
          "output_type": "stream",
          "name": "stdout",
          "text": [
            "4.991772174835205\n"
          ]
        }
      ]
    },
    {
      "cell_type": "code",
      "source": [
        "print(decode(m.generate(idx = torch.zeros((1, 1), dtype=torch.long), max_new_tokens=500)[0].tolist()))"
      ],
      "metadata": {
        "colab": {
          "base_uri": "https://localhost:8080/"
        },
        "id": "iKRtSE_vKxv8",
        "outputId": "559dd3fb-efa9-42fd-ae54-cc38fcc5a708"
      },
      "execution_count": 16,
      "outputs": [
        {
          "output_type": "stream",
          "name": "stdout",
          "text": [
            "\tn>F< C)Q¡&6”<[?x{1MH’\"VZ°0r‘mrI&꞉!}Ây%oBK@g(Â(Â^-xU¡U\tV8«-#raO<=n 1³ N³x`POOH:z_@J\n",
            "ï…³02(}z“Âm.8N»s ll %3“)0m.4=%<!,IG(‘x.\\ {%\\»qzh|8zfÂcw³2A«#L&Im:{-r\tf8xsXaCLUJe*w³PfR­'g5‘JxZrnx«'ZHf db\"K꞉;}ï“?U¡³Q {+XJn¡+8tOm»ÂU3kFZ9^¡q!s^([?xGï]\n",
            "Nf«/»O\t= x+2e(dBv@yK»P1–³A¡tvi1`wCC-1\n",
            "#7…)S&-~ x⊗08qR#“{PfDE–…“n…eSj%1i7Z:$…꞉~<g@|w&(*7_ExZYC*WPyDTSj!4?He(.\\B’O}9)\\6*1o w,⊗P#G-~ {}}\n",
            "dep>Epo[qW»=I7)^5d.~1:\n",
            "dv3KGyu.oFclAW&T?x…‘Â1(2x\t eats lo‘ÂK4K\t³{D<sI‘TH­sÂTd⊗NdTWdv^Mf8y}Â‘LKNRPyx)$KE%B\n",
            "m1?HWaBl`w…)–V”h9”F<Z4ï5&7\n"
          ]
        }
      ]
    },
    {
      "cell_type": "code",
      "source": [
        "# toy example illustrating how matrix multiplication can be used for a \"weighted aggregation\"\n",
        "torch.manual_seed(42)\n",
        "a = torch.tril(torch.ones(3, 3))\n",
        "a = a / torch.sum(a, 1, keepdim=True)\n",
        "b = torch.randint(0,10,(3,2)).float()\n",
        "c = a @ b\n",
        "print('a=')\n",
        "print(a)\n",
        "print('--')\n",
        "print('b=')\n",
        "print(b)\n",
        "print('--')\n",
        "print('c=')\n",
        "print(c)"
      ],
      "metadata": {
        "colab": {
          "base_uri": "https://localhost:8080/"
        },
        "id": "NjQXhj_lKzUx",
        "outputId": "51113c60-8c17-41ae-a495-68c58d4ae93b"
      },
      "execution_count": 17,
      "outputs": [
        {
          "output_type": "stream",
          "name": "stdout",
          "text": [
            "a=\n",
            "tensor([[1.0000, 0.0000, 0.0000],\n",
            "        [0.5000, 0.5000, 0.0000],\n",
            "        [0.3333, 0.3333, 0.3333]])\n",
            "--\n",
            "b=\n",
            "tensor([[2., 7.],\n",
            "        [6., 4.],\n",
            "        [6., 5.]])\n",
            "--\n",
            "c=\n",
            "tensor([[2.0000, 7.0000],\n",
            "        [4.0000, 5.5000],\n",
            "        [4.6667, 5.3333]])\n"
          ]
        }
      ]
    },
    {
      "cell_type": "code",
      "source": [
        "# consider the following toy example:\n",
        "\n",
        "torch.manual_seed(1337)\n",
        "B,T,C = 4,8,2 # batch, time, channels\n",
        "x = torch.randn(B,T,C)\n",
        "x.shape"
      ],
      "metadata": {
        "colab": {
          "base_uri": "https://localhost:8080/"
        },
        "id": "zsihC6bnLAz6",
        "outputId": "c7575ce0-f6a6-4f85-9821-3ab465cf828f"
      },
      "execution_count": 18,
      "outputs": [
        {
          "output_type": "execute_result",
          "data": {
            "text/plain": [
              "torch.Size([4, 8, 2])"
            ]
          },
          "metadata": {},
          "execution_count": 18
        }
      ]
    },
    {
      "cell_type": "code",
      "source": [
        "# We want x[b,t] = mean_{i<=t} x[b,i]\n",
        "xbow = torch.zeros((B,T,C))\n",
        "for b in range(B):\n",
        "    for t in range(T):\n",
        "        xprev = x[b,:t+1] # (t,C)\n",
        "        xbow[b,t] = torch.mean(xprev, 0)\n"
      ],
      "metadata": {
        "id": "eWFs8o9MLEQ1"
      },
      "execution_count": 19,
      "outputs": []
    },
    {
      "cell_type": "code",
      "source": [
        "# version 2: using matrix multiply for a weighted aggregation\n",
        "wei = torch.tril(torch.ones(T, T))\n",
        "wei = wei / wei.sum(1, keepdim=True)\n",
        "xbow2 = wei @ x # (B, T, T) @ (B, T, C) ----> (B, T, C)\n",
        "torch.allclose(xbow, xbow2)"
      ],
      "metadata": {
        "colab": {
          "base_uri": "https://localhost:8080/"
        },
        "id": "kU64EjZZLF1R",
        "outputId": "946c73a4-84b3-44cc-df9f-e4b92c66fc87"
      },
      "execution_count": 20,
      "outputs": [
        {
          "output_type": "execute_result",
          "data": {
            "text/plain": [
              "False"
            ]
          },
          "metadata": {},
          "execution_count": 20
        }
      ]
    },
    {
      "cell_type": "code",
      "source": [
        "# version 3: use Softmax\n",
        "tril = torch.tril(torch.ones(T, T))\n",
        "wei = torch.zeros((T,T))\n",
        "wei = wei.masked_fill(tril == 0, float('-inf'))\n",
        "wei = F.softmax(wei, dim=-1)\n",
        "xbow3 = wei @ x\n",
        "torch.allclose(xbow, xbow3)\n"
      ],
      "metadata": {
        "colab": {
          "base_uri": "https://localhost:8080/"
        },
        "id": "fWe6LALnLJAp",
        "outputId": "f0d2001a-1638-444b-8429-4046c0143feb"
      },
      "execution_count": 21,
      "outputs": [
        {
          "output_type": "execute_result",
          "data": {
            "text/plain": [
              "False"
            ]
          },
          "metadata": {},
          "execution_count": 21
        }
      ]
    },
    {
      "cell_type": "code",
      "source": [
        "# version 4: self-attention!\n",
        "torch.manual_seed(1337)\n",
        "B,T,C = 4,8,32 # batch, time, channels\n",
        "x = torch.randn(B,T,C)\n",
        "\n",
        "# let's see a single Head perform self-attention\n",
        "head_size = 16\n",
        "key = nn.Linear(C, head_size, bias=False)\n",
        "query = nn.Linear(C, head_size, bias=False)\n",
        "value = nn.Linear(C, head_size, bias=False)\n",
        "k = key(x)   # (B, T, 16)\n",
        "q = query(x) # (B, T, 16)\n",
        "wei =  q @ k.transpose(-2, -1) # (B, T, 16) @ (B, 16, T) ---> (B, T, T)\n",
        "\n",
        "tril = torch.tril(torch.ones(T, T))\n",
        "#wei = torch.zeros((T,T))\n",
        "wei = wei.masked_fill(tril == 0, float('-inf'))\n",
        "wei = F.softmax(wei, dim=-1)\n",
        "\n",
        "v = value(x)\n",
        "out = wei @ v\n",
        "#out = wei @ x\n",
        "\n",
        "out.shape"
      ],
      "metadata": {
        "colab": {
          "base_uri": "https://localhost:8080/"
        },
        "id": "HaZot9WLLMJF",
        "outputId": "e77f97bd-9e04-4c4c-e680-925134d21585"
      },
      "execution_count": 22,
      "outputs": [
        {
          "output_type": "execute_result",
          "data": {
            "text/plain": [
              "torch.Size([4, 8, 16])"
            ]
          },
          "metadata": {},
          "execution_count": 22
        }
      ]
    },
    {
      "cell_type": "code",
      "source": [
        "wei[0]"
      ],
      "metadata": {
        "colab": {
          "base_uri": "https://localhost:8080/"
        },
        "id": "EY5Vy6cvLROP",
        "outputId": "521ace2a-c482-4019-e72d-fd31f5c4716f"
      },
      "execution_count": 23,
      "outputs": [
        {
          "output_type": "execute_result",
          "data": {
            "text/plain": [
              "tensor([[1.0000, 0.0000, 0.0000, 0.0000, 0.0000, 0.0000, 0.0000, 0.0000],\n",
              "        [0.1574, 0.8426, 0.0000, 0.0000, 0.0000, 0.0000, 0.0000, 0.0000],\n",
              "        [0.2088, 0.1646, 0.6266, 0.0000, 0.0000, 0.0000, 0.0000, 0.0000],\n",
              "        [0.5792, 0.1187, 0.1889, 0.1131, 0.0000, 0.0000, 0.0000, 0.0000],\n",
              "        [0.0294, 0.1052, 0.0469, 0.0276, 0.7909, 0.0000, 0.0000, 0.0000],\n",
              "        [0.0176, 0.2689, 0.0215, 0.0089, 0.6812, 0.0019, 0.0000, 0.0000],\n",
              "        [0.1691, 0.4066, 0.0438, 0.0416, 0.1048, 0.2012, 0.0329, 0.0000],\n",
              "        [0.0210, 0.0843, 0.0555, 0.2297, 0.0573, 0.0709, 0.2423, 0.2391]],\n",
              "       grad_fn=<SelectBackward0>)"
            ]
          },
          "metadata": {},
          "execution_count": 23
        }
      ]
    },
    {
      "cell_type": "code",
      "source": [
        "k = torch.randn(B,T,head_size)\n",
        "q = torch.randn(B,T,head_size)\n",
        "wei = q @ k.transpose(-2, -1) * head_size**-0.5"
      ],
      "metadata": {
        "id": "URCyirTmLSod"
      },
      "execution_count": 24,
      "outputs": []
    },
    {
      "cell_type": "code",
      "source": [
        "k.var()"
      ],
      "metadata": {
        "colab": {
          "base_uri": "https://localhost:8080/"
        },
        "id": "mA6WTorULWik",
        "outputId": "7b192c65-d2de-4c50-88ee-5fb572ec7d42"
      },
      "execution_count": 25,
      "outputs": [
        {
          "output_type": "execute_result",
          "data": {
            "text/plain": [
              "tensor(1.0449)"
            ]
          },
          "metadata": {},
          "execution_count": 25
        }
      ]
    },
    {
      "cell_type": "code",
      "source": [
        "q.var()"
      ],
      "metadata": {
        "colab": {
          "base_uri": "https://localhost:8080/"
        },
        "id": "tgW06M58LYTB",
        "outputId": "b1ede357-f53c-4c60-ce09-130b3c29922f"
      },
      "execution_count": 26,
      "outputs": [
        {
          "output_type": "execute_result",
          "data": {
            "text/plain": [
              "tensor(1.0700)"
            ]
          },
          "metadata": {},
          "execution_count": 26
        }
      ]
    },
    {
      "cell_type": "code",
      "source": [
        "wei.var()"
      ],
      "metadata": {
        "colab": {
          "base_uri": "https://localhost:8080/"
        },
        "id": "nmdKHNLFLZpe",
        "outputId": "f329eb96-d8d0-456a-89fe-272a1e82dd04"
      },
      "execution_count": 27,
      "outputs": [
        {
          "output_type": "execute_result",
          "data": {
            "text/plain": [
              "tensor(1.0918)"
            ]
          },
          "metadata": {},
          "execution_count": 27
        }
      ]
    },
    {
      "cell_type": "code",
      "source": [
        "torch.softmax(torch.tensor([0.1, -0.2, 0.3, -0.2, 0.5]), dim=-1)"
      ],
      "metadata": {
        "colab": {
          "base_uri": "https://localhost:8080/"
        },
        "id": "SNNOYgAsLa5z",
        "outputId": "1daa49f1-49f9-4085-899b-508ccd07ab2b"
      },
      "execution_count": 28,
      "outputs": [
        {
          "output_type": "execute_result",
          "data": {
            "text/plain": [
              "tensor([0.1925, 0.1426, 0.2351, 0.1426, 0.2872])"
            ]
          },
          "metadata": {},
          "execution_count": 28
        }
      ]
    },
    {
      "cell_type": "code",
      "source": [
        "torch.softmax(torch.tensor([0.1, -0.2, 0.3, -0.2, 0.5])*8, dim=-1) # gets too peaky, converges to one-hot"
      ],
      "metadata": {
        "colab": {
          "base_uri": "https://localhost:8080/"
        },
        "id": "eascgXxILcLA",
        "outputId": "2aff9886-fe4c-4210-d755-f452338820bc"
      },
      "execution_count": 29,
      "outputs": [
        {
          "output_type": "execute_result",
          "data": {
            "text/plain": [
              "tensor([0.0326, 0.0030, 0.1615, 0.0030, 0.8000])"
            ]
          },
          "metadata": {},
          "execution_count": 29
        }
      ]
    },
    {
      "cell_type": "code",
      "source": [
        "class LayerNorm1d: # (used to be BatchNorm1d)\n",
        "\n",
        "  def __init__(self, dim, eps=1e-5, momentum=0.1):\n",
        "    self.eps = eps\n",
        "    self.gamma = torch.ones(dim)\n",
        "    self.beta = torch.zeros(dim)\n",
        "\n",
        "  def __call__(self, x):\n",
        "    # calculate the forward pass\n",
        "    xmean = x.mean(1, keepdim=True) # batch mean\n",
        "    xvar = x.var(1, keepdim=True) # batch variance\n",
        "    xhat = (x - xmean) / torch.sqrt(xvar + self.eps) # normalize to unit variance\n",
        "    self.out = self.gamma * xhat + self.beta\n",
        "    return self.out\n",
        "\n",
        "  def parameters(self):\n",
        "    return [self.gamma, self.beta]\n",
        "\n",
        "torch.manual_seed(1337)\n",
        "module = LayerNorm1d(100)\n",
        "x = torch.randn(32, 100) # batch size 32 of 100-dimensional vectors\n",
        "x = module(x)\n",
        "x.shape"
      ],
      "metadata": {
        "colab": {
          "base_uri": "https://localhost:8080/"
        },
        "id": "p7BQpKBiLeqd",
        "outputId": "6828ecb2-6854-40de-9f9e-5c81d87f8f48"
      },
      "execution_count": 30,
      "outputs": [
        {
          "output_type": "execute_result",
          "data": {
            "text/plain": [
              "torch.Size([32, 100])"
            ]
          },
          "metadata": {},
          "execution_count": 30
        }
      ]
    },
    {
      "cell_type": "code",
      "source": [
        "x[:,0].mean(), x[:,0].std() # mean,std of one feature across all batch inputs"
      ],
      "metadata": {
        "colab": {
          "base_uri": "https://localhost:8080/"
        },
        "id": "sqAWj4N1LhKd",
        "outputId": "7a6361cf-7e9f-40cc-86bf-edaf2616eead"
      },
      "execution_count": 31,
      "outputs": [
        {
          "output_type": "execute_result",
          "data": {
            "text/plain": [
              "(tensor(0.1469), tensor(0.8803))"
            ]
          },
          "metadata": {},
          "execution_count": 31
        }
      ]
    },
    {
      "cell_type": "code",
      "source": [
        "x[0,:].mean(), x[0,:].std() # mean,std of a single input from the batch, of its features"
      ],
      "metadata": {
        "colab": {
          "base_uri": "https://localhost:8080/"
        },
        "id": "5sRPweG3LizX",
        "outputId": "165b4725-db73-4b31-f857-9500e685fc11"
      },
      "execution_count": 32,
      "outputs": [
        {
          "output_type": "execute_result",
          "data": {
            "text/plain": [
              "(tensor(-9.5367e-09), tensor(1.0000))"
            ]
          },
          "metadata": {},
          "execution_count": 32
        }
      ]
    },
    {
      "cell_type": "code",
      "source": [
        "import torch\n",
        "import torch.nn as nn\n",
        "from torch.nn import functional as F\n",
        "\n",
        "# hyperparameters\n",
        "batch_size = 16 # how many independent sequences will we process in parallel?\n",
        "block_size = 32 # what is the maximum context length for predictions?\n",
        "max_iters = 8000\n",
        "eval_interval = 100\n",
        "learning_rate = 1e-3\n",
        "device = 'cuda' if torch.cuda.is_available() else 'cpu'\n",
        "eval_iters = 200\n",
        "n_embd = 64\n",
        "n_head = 4\n",
        "n_layer = 4\n",
        "dropout = 0.0\n",
        "# ------------\n",
        "\n",
        "torch.manual_seed(1337)\n",
        "\n",
        "# wget https://raw.githubusercontent.com/karpathy/char-rnn/master/data/tinyshakespeare/input.txt\n",
        "with open('ProblemSolutionPythonV3.csv', 'r', encoding='utf-8') as f:\n",
        "    text = f.read()\n",
        "\n",
        "# here are all the unique characters that occur in this text\n",
        "chars = sorted(list(set(text)))\n",
        "vocab_size = len(chars)\n",
        "# create a mapping from characters to integers\n",
        "stoi = { ch:i for i,ch in enumerate(chars) }\n",
        "itos = { i:ch for i,ch in enumerate(chars) }\n",
        "encode = lambda s: [stoi[c] for c in s] # encoder: take a string, output a list of integers\n",
        "decode = lambda l: ''.join([itos[i] for i in l]) # decoder: take a list of integers, output a string\n",
        "\n",
        "# Train and test splits\n",
        "data = torch.tensor(encode(text), dtype=torch.long)\n",
        "n = int(0.9*len(data)) # first 90% will be train, rest val\n",
        "train_data = data[:n]\n",
        "val_data = data[n:]\n",
        "\n",
        "# data loading\n",
        "def get_batch(split):\n",
        "    # generate a small batch of data of inputs x and targets y\n",
        "    data = train_data if split == 'train' else val_data\n",
        "    ix = torch.randint(len(data) - block_size, (batch_size,))\n",
        "    x = torch.stack([data[i:i+block_size] for i in ix])\n",
        "    y = torch.stack([data[i+1:i+block_size+1] for i in ix])\n",
        "    x, y = x.to(device), y.to(device)\n",
        "    return x, y\n",
        "\n",
        "@torch.no_grad()\n",
        "def estimate_loss():\n",
        "    out = {}\n",
        "    model.eval()\n",
        "    for split in ['train', 'val']:\n",
        "        losses = torch.zeros(eval_iters)\n",
        "        for k in range(eval_iters):\n",
        "            X, Y = get_batch(split)\n",
        "            logits, loss = model(X, Y)\n",
        "            losses[k] = loss.item()\n",
        "        out[split] = losses.mean()\n",
        "    model.train()\n",
        "    return out\n",
        "\n",
        "class Head(nn.Module):\n",
        "    \"\"\" one head of self-attention \"\"\"\n",
        "\n",
        "    def __init__(self, head_size):\n",
        "        super().__init__()\n",
        "        self.key = nn.Linear(n_embd, head_size, bias=False)\n",
        "        self.query = nn.Linear(n_embd, head_size, bias=False)\n",
        "        self.value = nn.Linear(n_embd, head_size, bias=False)\n",
        "        self.register_buffer('tril', torch.tril(torch.ones(block_size, block_size)))\n",
        "\n",
        "        self.dropout = nn.Dropout(dropout)\n",
        "\n",
        "    def forward(self, x):\n",
        "        B,T,C = x.shape\n",
        "        k = self.key(x)   # (B,T,C)\n",
        "        q = self.query(x) # (B,T,C)\n",
        "        # compute attention scores (\"affinities\")\n",
        "        wei = q @ k.transpose(-2,-1) * C**-0.5 # (B, T, C) @ (B, C, T) -> (B, T, T)\n",
        "        wei = wei.masked_fill(self.tril[:T, :T] == 0, float('-inf')) # (B, T, T)\n",
        "        wei = F.softmax(wei, dim=-1) # (B, T, T)\n",
        "        wei = self.dropout(wei)\n",
        "        # perform the weighted aggregation of the values\n",
        "        v = self.value(x) # (B,T,C)\n",
        "        out = wei @ v # (B, T, T) @ (B, T, C) -> (B, T, C)\n",
        "        return out\n",
        "\n",
        "class MultiHeadAttention(nn.Module):\n",
        "    \"\"\" multiple heads of self-attention in parallel \"\"\"\n",
        "\n",
        "    def __init__(self, num_heads, head_size):\n",
        "        super().__init__()\n",
        "        self.heads = nn.ModuleList([Head(head_size) for _ in range(num_heads)])\n",
        "        self.proj = nn.Linear(n_embd, n_embd)\n",
        "        self.dropout = nn.Dropout(dropout)\n",
        "\n",
        "    def forward(self, x):\n",
        "        out = torch.cat([h(x) for h in self.heads], dim=-1)\n",
        "        out = self.dropout(self.proj(out))\n",
        "        return out\n",
        "\n",
        "class FeedFoward(nn.Module):\n",
        "    \"\"\" a simple linear layer followed by a non-linearity \"\"\"\n",
        "\n",
        "    def __init__(self, n_embd):\n",
        "        super().__init__()\n",
        "        self.net = nn.Sequential(\n",
        "            nn.Linear(n_embd, 4 * n_embd),\n",
        "            nn.ReLU(),\n",
        "            nn.Linear(4 * n_embd, n_embd),\n",
        "            nn.Dropout(dropout),\n",
        "        )\n",
        "\n",
        "    def forward(self, x):\n",
        "        return self.net(x)\n",
        "\n",
        "class Block(nn.Module):\n",
        "    \"\"\" Transformer block: communication followed by computation \"\"\"\n",
        "\n",
        "    def __init__(self, n_embd, n_head):\n",
        "        # n_embd: embedding dimension, n_head: the number of heads we'd like\n",
        "        super().__init__()\n",
        "        head_size = n_embd // n_head\n",
        "        self.sa = MultiHeadAttention(n_head, head_size)\n",
        "        self.ffwd = FeedFoward(n_embd)\n",
        "        self.ln1 = nn.LayerNorm(n_embd)\n",
        "        self.ln2 = nn.LayerNorm(n_embd)\n",
        "\n",
        "    def forward(self, x):\n",
        "        x = x + self.sa(self.ln1(x))\n",
        "        x = x + self.ffwd(self.ln2(x))\n",
        "        return x\n",
        "\n",
        "# super simple bigram model\n",
        "class BigramLanguageModel(nn.Module):\n",
        "\n",
        "    def __init__(self):\n",
        "        super().__init__()\n",
        "        # each token directly reads off the logits for the next token from a lookup table\n",
        "        self.token_embedding_table = nn.Embedding(vocab_size, n_embd)\n",
        "        self.position_embedding_table = nn.Embedding(block_size, n_embd)\n",
        "        self.blocks = nn.Sequential(*[Block(n_embd, n_head=n_head) for _ in range(n_layer)])\n",
        "        self.ln_f = nn.LayerNorm(n_embd) # final layer norm\n",
        "        self.lm_head = nn.Linear(n_embd, vocab_size)\n",
        "\n",
        "    def forward(self, idx, targets=None):\n",
        "        B, T = idx.shape\n",
        "\n",
        "        # idx and targets are both (B,T) tensor of integers\n",
        "        tok_emb = self.token_embedding_table(idx) # (B,T,C)\n",
        "        pos_emb = self.position_embedding_table(torch.arange(T, device=device)) # (T,C)\n",
        "        x = tok_emb + pos_emb # (B,T,C)\n",
        "        x = self.blocks(x) # (B,T,C)\n",
        "        x = self.ln_f(x) # (B,T,C)\n",
        "        logits = self.lm_head(x) # (B,T,vocab_size)\n",
        "\n",
        "        if targets is None:\n",
        "            loss = None\n",
        "        else:\n",
        "            B, T, C = logits.shape\n",
        "            logits = logits.view(B*T, C)\n",
        "            targets = targets.view(B*T)\n",
        "            loss = F.cross_entropy(logits, targets)\n",
        "\n",
        "        return logits, loss\n",
        "\n",
        "    def generate(self, idx, max_new_tokens):\n",
        "        # idx is (B, T) array of indices in the current context\n",
        "        for _ in range(max_new_tokens):\n",
        "            # crop idx to the last block_size tokens\n",
        "            idx_cond = idx[:, -block_size:]\n",
        "            # get the predictions\n",
        "            logits, loss = self(idx_cond)\n",
        "            # focus only on the last time step\n",
        "            logits = logits[:, -1, :] # becomes (B, C)\n",
        "            # apply softmax to get probabilities\n",
        "            probs = F.softmax(logits, dim=-1) # (B, C)\n",
        "            # sample from the distribution\n",
        "            idx_next = torch.multinomial(probs, num_samples=1) # (B, 1)\n",
        "            # append sampled index to the running sequence\n",
        "            idx = torch.cat((idx, idx_next), dim=1) # (B, T+1)\n",
        "        return idx\n",
        "\n",
        "model = BigramLanguageModel()\n",
        "m = model.to(device)\n",
        "# print the number of parameters in the model\n",
        "print(sum(p.numel() for p in m.parameters())/1e6, 'M parameters')\n",
        "\n",
        "# create a PyTorch optimizer\n",
        "optimizer = torch.optim.AdamW(model.parameters(), lr=learning_rate)\n",
        "\n",
        "for iter in range(max_iters):\n",
        "\n",
        "    # every once in a while evaluate the loss on train and val sets\n",
        "    if iter % eval_interval == 0 or iter == max_iters - 1:\n",
        "        losses = estimate_loss()\n",
        "        print(f\"step {iter}: train loss {losses['train']:.4f}, val loss {losses['val']:.4f}\")\n",
        "\n",
        "    # sample a batch of data\n",
        "    xb, yb = get_batch('train')\n",
        "\n",
        "    # evaluate the loss\n",
        "    logits, loss = model(xb, yb)\n",
        "    optimizer.zero_grad(set_to_none=True)\n",
        "    loss.backward()\n",
        "    optimizer.step()\n",
        "\n",
        "# generate from the model\n",
        "context = torch.zeros((1, 1), dtype=torch.long, device=device)\n",
        "print(decode(m.generate(context, max_new_tokens=2000)[0].tolist()))\n"
      ],
      "metadata": {
        "colab": {
          "base_uri": "https://localhost:8080/"
        },
        "id": "wknNWVgAL9KG",
        "outputId": "83511702-0703-411a-bd50-b95e0df71b5c"
      },
      "execution_count": 33,
      "outputs": [
        {
          "output_type": "stream",
          "name": "stdout",
          "text": [
            "0.216179 M parameters\n",
            "step 0: train loss 4.7847, val loss 4.7305\n",
            "step 100: train loss 2.9032, val loss 2.8585\n",
            "step 200: train loss 2.6825, val loss 2.6323\n",
            "step 300: train loss 2.5451, val loss 2.5205\n",
            "step 400: train loss 2.4552, val loss 2.4475\n",
            "step 500: train loss 2.3609, val loss 2.3102\n",
            "step 600: train loss 2.2620, val loss 2.2250\n",
            "step 700: train loss 2.1659, val loss 2.1382\n",
            "step 800: train loss 2.0812, val loss 2.0647\n",
            "step 900: train loss 2.0548, val loss 1.9600\n",
            "step 1000: train loss 1.9757, val loss 1.9033\n",
            "step 1100: train loss 1.8980, val loss 1.8687\n",
            "step 1200: train loss 1.8926, val loss 1.8148\n",
            "step 1300: train loss 1.8315, val loss 1.7700\n",
            "step 1400: train loss 1.8220, val loss 1.7653\n",
            "step 1500: train loss 1.7890, val loss 1.7440\n",
            "step 1600: train loss 1.7460, val loss 1.7340\n",
            "step 1700: train loss 1.7217, val loss 1.6980\n",
            "step 1800: train loss 1.7168, val loss 1.6694\n",
            "step 1900: train loss 1.6907, val loss 1.6693\n",
            "step 2000: train loss 1.6827, val loss 1.6408\n",
            "step 2100: train loss 1.6650, val loss 1.6137\n",
            "step 2200: train loss 1.6419, val loss 1.5723\n",
            "step 2300: train loss 1.6332, val loss 1.5886\n",
            "step 2400: train loss 1.6213, val loss 1.5709\n",
            "step 2500: train loss 1.6135, val loss 1.5549\n",
            "step 2600: train loss 1.5930, val loss 1.5478\n",
            "step 2700: train loss 1.5710, val loss 1.5333\n",
            "step 2800: train loss 1.5546, val loss 1.5045\n",
            "step 2900: train loss 1.5499, val loss 1.4947\n",
            "step 3000: train loss 1.5445, val loss 1.5038\n",
            "step 3100: train loss 1.5282, val loss 1.4881\n",
            "step 3200: train loss 1.5418, val loss 1.4796\n",
            "step 3300: train loss 1.5228, val loss 1.4901\n",
            "step 3400: train loss 1.5044, val loss 1.4429\n",
            "step 3500: train loss 1.4804, val loss 1.4604\n",
            "step 3600: train loss 1.4813, val loss 1.4470\n",
            "step 3700: train loss 1.4942, val loss 1.4495\n",
            "step 3800: train loss 1.4673, val loss 1.4130\n",
            "step 3900: train loss 1.4786, val loss 1.4390\n",
            "step 4000: train loss 1.4548, val loss 1.4424\n",
            "step 4100: train loss 1.4895, val loss 1.4272\n",
            "step 4200: train loss 1.4496, val loss 1.4449\n",
            "step 4300: train loss 1.4707, val loss 1.3999\n",
            "step 4400: train loss 1.4573, val loss 1.3957\n",
            "step 4500: train loss 1.4566, val loss 1.4011\n",
            "step 4600: train loss 1.4320, val loss 1.4082\n",
            "step 4700: train loss 1.4238, val loss 1.3819\n",
            "step 4800: train loss 1.4306, val loss 1.3963\n",
            "step 4900: train loss 1.4422, val loss 1.3818\n",
            "step 5000: train loss 1.4143, val loss 1.3811\n",
            "step 5100: train loss 1.4255, val loss 1.3799\n",
            "step 5200: train loss 1.4073, val loss 1.3703\n",
            "step 5300: train loss 1.4185, val loss 1.3768\n",
            "step 5400: train loss 1.4115, val loss 1.3854\n",
            "step 5500: train loss 1.4332, val loss 1.3905\n",
            "step 5600: train loss 1.4125, val loss 1.3743\n",
            "step 5700: train loss 1.3879, val loss 1.3564\n",
            "step 5800: train loss 1.4153, val loss 1.3740\n",
            "step 5900: train loss 1.3808, val loss 1.3449\n",
            "step 6000: train loss 1.3807, val loss 1.3495\n",
            "step 6100: train loss 1.3718, val loss 1.3420\n",
            "step 6200: train loss 1.3736, val loss 1.3213\n",
            "step 6300: train loss 1.3751, val loss 1.3257\n",
            "step 6400: train loss 1.3702, val loss 1.3394\n",
            "step 6500: train loss 1.3463, val loss 1.3304\n",
            "step 6600: train loss 1.3664, val loss 1.3033\n",
            "step 6700: train loss 1.3641, val loss 1.3362\n",
            "step 6800: train loss 1.3476, val loss 1.3215\n",
            "step 6900: train loss 1.3568, val loss 1.3297\n",
            "step 7000: train loss 1.3623, val loss 1.3341\n",
            "step 7100: train loss 1.3622, val loss 1.3053\n",
            "step 7200: train loss 1.3496, val loss 1.3120\n",
            "step 7300: train loss 1.3535, val loss 1.3090\n",
            "step 7400: train loss 1.3255, val loss 1.2979\n",
            "step 7500: train loss 1.3384, val loss 1.2815\n",
            "step 7600: train loss 1.3580, val loss 1.2990\n",
            "step 7700: train loss 1.3350, val loss 1.2841\n",
            "step 7800: train loss 1.3470, val loss 1.3113\n",
            "step 7900: train loss 1.3399, val loss 1.2900\n",
            "step 7999: train loss 1.3102, val loss 1.2988\n",
            "\tg': ['Line', weight', 'bith-keedage_damG', [18, 2, 5, 6, 3, 4], [12])\n",
            "length Add = list()\n",
            "colors__num = [[\"\"arient Ordeey\"\"]\n",
            "  \n",
            "# initializing elements in a Python sondld create a same date a new webalor\n",
            "import import numpy arrow\n",
            "wa.get_out()\n",
            "  \n",
            "# defirst at stribted Linked by Value posble. ,\"upperator = \"do?En' '; != '15/201100': 221*nums61 = (532, 129, 98, 70)\n",
            "print\n",
            "print and appendas append(lst)\n",
            "nums = np.arange(2,-1,4,2)\n",
            "o82,Write a Python program to find series freque = \"\" \"\")\n",
            "   \n",
            "  \n",
            "# printing original list.ido by (14, \"\" nconsert{\"\"}, [4, 6, 8, 6, 91, 8])\n",
            "a1, = arr.strft('ae ')\n",
            "print(nums_data_list1, index= start.append(len):\n",
            "      if(len(s, mat dig in exist1. , new_node = Node\n",
            " \n",
            "  \n",
            "print(math(graph); for index in traveraw multiple lists sub2 result\n",
            "print(\"\"\\r\"\")\n",
            "print(r)\n",
            "print(\"\"Original list is-by list wards\n",
            "stra op = [1, 2, 1, 1, 4, 5, 4, 7, 8]}\n",
            "print(test)\n",
            "# Element.multiple and elements s. \",\"air = \"\" \"\")\n",
            "  \n",
            "  \n",
            "# Checking series an extable enterse, 2. data in Parki) paFrame\n",
            "\n",
            "x = nums.append(x)\n",
            "numspufle(xit, 4)\n",
            "          print(\"\"\\test dequence orehen (new_array) as np\n",
            "\"\n",
            "19X name4 of a speriple and elements Lists beune exceptiles at item with check.dt_timedel()\n",
            "result operation == x 1\n",
            "df['Lar']}\n",
            "n'Aftentsine', g2)\n",
            "pursort numpy as np.append(x, :)\n",
            "print(\"\"\\nTween mydome numbers dataframe to Type HTAreadh series. \",\"import numpy as np.randas as pd\n",
            "df = pd.ressele('dcelew'\n",
            " \n",
            "  \n",
            "# initialional drivimal vable \n",
            "print(\"\"Node: ')\n",
            "print(\"\"Original squeence of the \"\", \"\"numbers by data):\n",
            "       print(delimk.ags(), minde)\n",
            "print(ele_number(nubs))\"\n",
            "13hues_list usered list bermustined Matrix2,\"# vate lay 2d List of dataframe by : subsequired_radix:\n",
            "          self.append(conts[0])\n",
            "     next_ity_nstime(i*0))\n",
            "whiee3=[length_N(ested ):\n",
            "        \n",
            "import numpy as np\n",
            "x = np.randomax.whrib.pionary(random_color)\n",
            "print(\"\"076,Write a NumPy program to first pusive Dic.it(lst[1]) and in a colump. ,\"def commulate('orderow_interresult2)\n",
            "print(\"\"\\nList combite birth case:\"\",date.random\n"
          ]
        }
      ]
    },
    {
      "cell_type": "code",
      "source": [
        "def generate_from_prompt(prompt: str, max_new_tokens=200, device='cuda' if torch.cuda.is_available() else 'cpu'):\n",
        "    model.eval()\n",
        "    context = torch.tensor(encode(prompt), dtype=torch.long, device=device).unsqueeze(0)\n",
        "    with torch.no_grad():\n",
        "        generated = model.generate(context, max_new_tokens=max_new_tokens)\n",
        "    return decode(generated[0].tolist())\n"
      ],
      "metadata": {
        "id": "9rNDH6gQMFEB"
      },
      "execution_count": 34,
      "outputs": []
    },
    {
      "cell_type": "code",
      "source": [
        "prompt = \"Write a NumPy program to repeat elements of an array.\"\n",
        "output = generate_from_prompt(prompt)\n",
        "print(output)"
      ],
      "metadata": {
        "colab": {
          "base_uri": "https://localhost:8080/"
        },
        "id": "pKN4dg86Pahv",
        "outputId": "47d79d6c-a8dc-497b-bfe8-a55a6c674ecf"
      },
      "execution_count": 36,
      "outputs": [
        {
          "output_type": "stream",
          "name": "stdout",
          "text": [
            "Write a NumPy program to repeat elements of an array.\n",
            "     x = n [inth\n",
            "    i = int(input(\"\"Put.perecoding unique values data to sorted ls. ,\"\"def items.max_number(str1=np.uses(21,3,5,30,190)\n",
            "print(array_nums))\n",
            "print(\"\"\\nApprode at a list of that between\n"
          ]
        }
      ]
    },
    {
      "cell_type": "code",
      "source": [
        "prompt = \"Write a Python function to create and print a list where the values are square of numbers\"\n",
        "print(generate_from_prompt(prompt))"
      ],
      "metadata": {
        "colab": {
          "base_uri": "https://localhost:8080/"
        },
        "id": "NAPq2EbrS4pZ",
        "outputId": "ae92219e-9a77-4ad9-aa96-25f34f1e53b5"
      },
      "execution_count": 37,
      "outputs": [
        {
          "output_type": "stream",
          "name": "stdout",
          "text": [
            "Write a Python function to create and print a list where the values are square of numbers:\"\")\n",
            "print(data) as np\n",
            "average\n",
            "print (\"\"\\rady 1cepated a duafe to modove a itle number with objecoding empty to list heade delim({}:keyNone:%11 < 2^0DC, 'k'))\n",
            "print('Date_eexid uz (25):\n",
            "          whil\n"
          ]
        }
      ]
    },
    {
      "cell_type": "code",
      "source": [
        "# Save model weights\n",
        "torch.save(model.state_dict(), \"codegpt_model.pt\")"
      ],
      "metadata": {
        "id": "ar-wPmw1TkFz"
      },
      "execution_count": null,
      "outputs": []
    }
  ]
}